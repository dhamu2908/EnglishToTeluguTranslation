{
  "nbformat": 4,
  "nbformat_minor": 0,
  "metadata": {
    "colab": {
      "provenance": [],
      "authorship_tag": "ABX9TyPHYmCMzPa2uxMYL07zOHqR",
      "include_colab_link": true
    },
    "kernelspec": {
      "name": "python3",
      "display_name": "Python 3"
    },
    "language_info": {
      "name": "python"
    }
  },
  "cells": [
    {
      "cell_type": "markdown",
      "metadata": {
        "id": "view-in-github",
        "colab_type": "text"
      },
      "source": [
        "<a href=\"https://colab.research.google.com/github/dhamu2908/EnglishToTeluguTranslation/blob/main/English_Telugu_Using_RNN.ipynb\" target=\"_parent\"><img src=\"https://colab.research.google.com/assets/colab-badge.svg\" alt=\"Open In Colab\"/></a>"
      ]
    },
    {
      "cell_type": "code",
      "execution_count": 1,
      "metadata": {
        "id": "CRbxogM2aDzz"
      },
      "outputs": [],
      "source": [
        "import numpy as np\n",
        "import pandas as pd\n",
        "import pickle\n",
        "import re\n",
        "from collections import Counter, defaultdict\n",
        "from typing import List, Tuple, Dict, Optional\n",
        "import matplotlib.pyplot as plt"
      ]
    },
    {
      "cell_type": "markdown",
      "source": [
        "**Simple RNN Cell**"
      ],
      "metadata": {
        "id": "PbremOEcaYBk"
      }
    },
    {
      "cell_type": "code",
      "source": [
        "class SimpleRNN:\n",
        "  def __init__(self, input_size, hidden_size):\n",
        "    #input size : How many features each word has (embedding dimension)\n",
        "    #hidden size: how much memory RNN has\n",
        "\n",
        "    self.input_size = input_size\n",
        "    self.hidden_size = hidden_size\n",
        "\n",
        "    #weight matrix for input --> hidden(Wxh)\n",
        "\n",
        "    self.Wxh = np.random.randn(input_size, hidden_size) * 0.1\n",
        "\n",
        "    #weight matrix for hidden-->hidden (Whh)\n",
        "    self.Whh = np.random.randn(hidden_size, hidden_size) * 0.1\n",
        "\n",
        "    #Bias term\n",
        "    self.bh = np.zeros((1, hidden_size))\n",
        "\n",
        "  #Forward\n",
        "\n",
        "  def forward(self, x, h_prev):\n",
        "    #Process the current input\n",
        "    input_contributed = np.dot(x, self.Wxh)\n",
        "\n",
        "    memory_contribution = np.dot(h_prev, self.Whh)\n",
        "\n",
        "    combined = input_contributed + memory_contribution + self.bh\n",
        "\n",
        "    h_next = np.tanh(combined)\n",
        "\n",
        "    return h_next\n",
        "\n"
      ],
      "metadata": {
        "id": "jL3C81WvaQPQ"
      },
      "execution_count": 4,
      "outputs": []
    },
    {
      "cell_type": "code",
      "source": [],
      "metadata": {
        "id": "hPw6Q03qaQnn"
      },
      "execution_count": null,
      "outputs": []
    },
    {
      "cell_type": "code",
      "source": [],
      "metadata": {
        "id": "kC-zE-fkaQqH"
      },
      "execution_count": null,
      "outputs": []
    },
    {
      "cell_type": "code",
      "source": [],
      "metadata": {
        "id": "LXyUlgTnaQsh"
      },
      "execution_count": null,
      "outputs": []
    },
    {
      "cell_type": "code",
      "source": [],
      "metadata": {
        "id": "QgxJ-toWaQvP"
      },
      "execution_count": null,
      "outputs": []
    },
    {
      "cell_type": "code",
      "source": [],
      "metadata": {
        "id": "bNp6qUOBaQxx"
      },
      "execution_count": null,
      "outputs": []
    },
    {
      "cell_type": "code",
      "source": [],
      "metadata": {
        "id": "EZO_IRZ9aQ0S"
      },
      "execution_count": null,
      "outputs": []
    },
    {
      "cell_type": "code",
      "source": [],
      "metadata": {
        "id": "NHhHGY6caQ2r"
      },
      "execution_count": null,
      "outputs": []
    },
    {
      "cell_type": "code",
      "source": [],
      "metadata": {
        "id": "M88c1Z8gaQ6E"
      },
      "execution_count": null,
      "outputs": []
    }
  ]
}